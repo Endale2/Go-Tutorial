{
 "cells": [
  {
   "cell_type": "code",
   "execution_count": null,
   "id": "6e60053b-2454-4b51-a612-5b49b0ba5d04",
   "metadata": {},
   "outputs": [],
   "source": []
  }
 ],
 "metadata": {
  "kernelspec": {
   "display_name": "",
   "name": ""
  },
  "language_info": {
   "name": ""
  }
 },
 "nbformat": 4,
 "nbformat_minor": 5
}
